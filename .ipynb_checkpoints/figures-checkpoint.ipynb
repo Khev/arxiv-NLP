{
 "cells": [
  {
   "cell_type": "markdown",
   "metadata": {},
   "source": [
    "# Introductions\n",
    "\n",
    "Making tables for paper"
   ]
  },
  {
   "cell_type": "code",
   "execution_count": 2,
   "metadata": {},
   "outputs": [
    {
     "name": "stdout",
     "output_type": "stream",
     "text": [
      "\\begin{table}[htbp] \n",
      " \\centering \n",
      " \\caption{CAPTION} \n",
      "\\begin{tabular}{lrr} \n",
      " \\toprule \n",
      "Model & Perplexity \\\\ \n",
      " s\\midrule \n",
      " k-gram & x \\\\ \n",
      " RNN & 654 \\\\ \n",
      " Transformer & x \\\\ \n",
      "\\bottomrule \n",
      " \\end{tabular} \n",
      " \\label{tab:LABEL_NAME} \n",
      " \\end{table} \n",
      "\n"
     ]
    }
   ],
   "source": [
    "import numpy as np\n",
    "import matplotlib.pyplot as plt\n",
    "%matplotlib inline\n",
    "\n",
    "def make_latex_table(rows):\n",
    "\n",
    "    w = len(rows[0])\n",
    "\n",
    "    #Top\n",
    "    top_lines = [\n",
    "        '\\\\begin{table}[htbp] \\n',\n",
    "        '\\centering \\n',\n",
    "        '\\caption{CAPTION} \\n'\n",
    "        '\\\\begin{tabular}{l' + w*'r' + '} \\n',\n",
    "        '\\\\toprule \\n',\n",
    "        ]\n",
    "\n",
    "    #Data\n",
    "    row_lines = []\n",
    "    for i,r in enumerate(rows):\n",
    "        if i == 1:\n",
    "            row_lines.append('s\\midrule \\n')\n",
    "        line = ' & '.join([str(t) for t in r]) + ' \\\\\\ \\n'\n",
    "        row_lines.append(line)\n",
    "\n",
    "    #Bottom\n",
    "    bottom_lines = [\n",
    "        '\\\\bottomrule \\n',\n",
    "        '\\\\end{tabular} \\n',\n",
    "        '\\label{tab:LABEL_NAME} \\n',\n",
    "        '\\end{table} \\n'\n",
    "    ]\n",
    "\n",
    "    out = ' '.join(top_lines) + ' '.join(row_lines) + ' '.join(bottom_lines)\n",
    "    return out\n",
    "\n",
    "\n",
    "#Data\n",
    "#header = ['Model','Accuracy','Precision','f1']\n",
    "#names = [\"k Nearest Neighbors\", \"SVM\", \"Random Forest\", \"Neural Net\"]\n",
    "\n",
    "header = ['Model','Perplexity']\n",
    "names = [\"k-gram\", \"RNN\", \"Transformer\"]\n",
    "\n",
    "#accs = np.loadtxt('data/output/freeway-classification-acc.txt')\n",
    "#precs = np.loadtxt('data/output/freeway-classification-prec.txt')\n",
    "#f1s = np.loadtxt('data/output/freeway-classification-f1.txt')\n",
    "perps = ['x',654,'x']\n",
    "#accs = [np.round(i,2) for i in accs]\n",
    "#precs = [np.round(i,2) for i in precs]\n",
    "#f1s = [np.round(i,2) for i in f1s]\n",
    "\n",
    "#Put data in right form\n",
    "rows = [header]\n",
    "for i in range(len(names)):\n",
    "    row = [Y[i] for Y in [names,perps]]\n",
    "    rows.append(row)\n",
    "\n",
    "#Make table\n",
    "out = make_latex_table(rows)\n",
    "print(out)"
   ]
  },
  {
   "cell_type": "markdown",
   "metadata": {},
   "source": [
    "### Length of titles, abstracts, full texts"
   ]
  },
  {
   "cell_type": "code",
   "execution_count": 18,
   "metadata": {},
   "outputs": [
    {
     "name": "stderr",
     "output_type": "stream",
     "text": [
      "/home/khev/anaconda3/envs/tf_gpu/lib/python3.7/site-packages/ipykernel_launcher.py:23: MatplotlibDeprecationWarning: \n",
      "The 'normed' kwarg was deprecated in Matplotlib 2.1 and will be removed in 3.1. Use 'density' instead.\n",
      "/home/khev/anaconda3/envs/tf_gpu/lib/python3.7/site-packages/ipykernel_launcher.py:42: MatplotlibDeprecationWarning: \n",
      "The 'normed' kwarg was deprecated in Matplotlib 2.1 and will be removed in 3.1. Use 'density' instead.\n",
      "/home/khev/anaconda3/envs/tf_gpu/lib/python3.7/site-packages/ipykernel_launcher.py:60: MatplotlibDeprecationWarning: \n",
      "The 'normed' kwarg was deprecated in Matplotlib 2.1 and will be removed in 3.1. Use 'density' instead.\n"
     ]
    },
    {
     "data": {
      "image/png": "[encoded data removed]",
      "text/plain": [
       "<Figure size 1080x432 with 3 Axes>"
      ]
     },
     "metadata": {
      "needs_background": "light"
     },
     "output_type": "display_data"
    }
   ],
   "source": [
    "#Parameters\n",
    "tick_size = 15\n",
    "tick_sizey = 15\n",
    "axis_size = 16\n",
    "xaxis_size = 32\n",
    "x_max = 100\n",
    "label_size = 26\n",
    "label_y_position = 0.975\n",
    "ymax = 1.05\n",
    "legend_size = 18\n",
    "x_inset,y_inset = 0.9,0.95\n",
    "inset_size = 22\n",
    "\n",
    "\n",
    "#Data\n",
    "title_lens = np.loadtxt('data/title-lengths.txt')\n",
    "abstract_lens = np.loadtxt('data/abstract-lengths.txt')\n",
    "fulltext_lens = np.loadtxt('data/abstract-lengths.txt')\n",
    "\n",
    "#Figures\n",
    "plt.figure(figsize=(15,6))\n",
    "ax1 = plt.subplot(131)\n",
    "plt.hist(title_lens,normed=True)\n",
    "plt.xlabel('length (words)',fontsize=axis_size+3)\n",
    "ticks = np.linspace(0,0.035,8)\n",
    "#labels = [0.75 + i*0.025 for i in range(8)]\n",
    "plt.xticks(fontsize=tick_size)  \n",
    "plt.yticks(ticks,fontsize=tick_size-2)\n",
    "#plt.yticks(ticks,labels,fontsize=tick_size)\n",
    "ax1.spines[\"top\"].set_visible(False)  \n",
    "ax1.spines[\"right\"].set_visible(False)\n",
    "plt.ylim([0,0.015])\n",
    "#plt.legend(['titles','precision'],prop={'size': legend_size},frameon=False)\n",
    "ax1.text(-0.025, label_y_position, 'a', transform=ax1.transAxes,\n",
    "      fontsize=label_size, fontweight='bold', va='top', ha='right')\n",
    "ax1.text(0.9, 0.25, 'titles', transform=ax1.transAxes, fontsize=inset_size, va='top', ha='right')\n",
    "\n",
    "\n",
    "\n",
    "#Figures\n",
    "ax2 = plt.subplot(132)\n",
    "plt.hist(abstract_lens, normed=True)\n",
    "plt.xlabel('length (words)',fontsize=axis_size+3)\n",
    "ticks = np.linspace(0,0.005,8)\n",
    "ticks = np.round(ticks,decimals=3)\n",
    "#labels = [0.75 + i*0.025 for i in range(8)]\n",
    "plt.xticks(fontsize=tick_size)  \n",
    "plt.yticks(ticks,fontsize=tick_size-2)\n",
    "#plt.yticks(fontsize=tick_size)\n",
    "plt.ylim([0,0.001])\n",
    "ax2.spines[\"top\"].set_visible(False)  \n",
    "ax2.spines[\"right\"].set_visible(False)\n",
    "ax2.text(-0.025, label_y_position, 'b', transform=ax2.transAxes,\n",
    "      fontsize=label_size, fontweight='bold', va='top', ha='right')\n",
    "ax2.text(0.9, 0.25, 'abstracts', transform=ax2.transAxes, fontsize=inset_size, va='top', ha='right')\n",
    "\n",
    "\n",
    "#Figures3\n",
    "ax3 = plt.subplot(133)\n",
    "plt.hist(fulltext_lens, normed=True)\n",
    "plt.xlabel('length (words)',fontsize=axis_size+3)\n",
    "#ticks = np.linspace(0,0.005,8)\n",
    "ticks = np.round(ticks,decimals=3)\n",
    "#labels = [0.75 + i*0.025 for i in range(8)]\n",
    "plt.ylim([0,0.001])\n",
    "plt.xticks(fontsize=tick_size)  \n",
    "plt.yticks(ticks,fontsize=tick_size-2)\n",
    "#plt.yticks(fontsize=tick_size)\n",
    "ax3.spines[\"top\"].set_visible(False)  \n",
    "ax3.spines[\"right\"].set_visible(False)\n",
    "ax3.text(-0.025, label_y_position, 'c', transform=ax3.transAxes,\n",
    "      fontsize=label_size, fontweight='bold', va='top', ha='right')\n",
    "ax3.text(0.9, 0.25, 'fulltexts', transform=ax3.transAxes, fontsize=inset_size, va='top', ha='right')\n",
    "\n",
    "plt.tight_layout()\n",
    "plt.savefig('figures/titles-abstract-fulltexts-lengths.pdf')"
   ]
  },
  {
   "cell_type": "markdown",
   "metadata": {},
   "source": [
    "### Length of titles and abstracts in tokens"
   ]
  },
  {
   "cell_type": "code",
   "execution_count": 29,
   "metadata": {},
   "outputs": [
    {
     "name": "stderr",
     "output_type": "stream",
     "text": [
      "/home/khev/anaconda3/envs/tf_gpu/lib/python3.7/site-packages/ipykernel_launcher.py:23: MatplotlibDeprecationWarning: \n",
      "The 'normed' kwarg was deprecated in Matplotlib 2.1 and will be removed in 3.1. Use 'density' instead.\n",
      "/home/khev/anaconda3/envs/tf_gpu/lib/python3.7/site-packages/ipykernel_launcher.py:41: MatplotlibDeprecationWarning: \n",
      "The 'normed' kwarg was deprecated in Matplotlib 2.1 and will be removed in 3.1. Use 'density' instead.\n"
     ]
    },
    {
     "data": {
      "image/png": "[encoded data removed]",
      "text/plain": [
       "<Figure size 1080x432 with 2 Axes>"
      ]
     },
     "metadata": {
      "needs_background": "light"
     },
     "output_type": "display_data"
    }
   ],
   "source": [
    "#Parameters\n",
    "tick_size = 16\n",
    "tick_sizey = 13\n",
    "axis_size = 16\n",
    "xaxis_size = 32\n",
    "x_max = 100\n",
    "label_size = 26\n",
    "label_y_position = 0.975\n",
    "ymax = 1.05\n",
    "legend_size = 18\n",
    "x_inset,y_inset = 0.9,0.95\n",
    "inset_size = 22\n",
    "\n",
    "\n",
    "#Data\n",
    "title_lens = np.loadtxt('data/title-length-in-tokens.txt')\n",
    "#abstract_lens = np.loadtxt('data/title-length-in-tokens.txt')\n",
    "abstract_lens = np.loadtxt('data/abstract-length-in-tokens.txt')\n",
    "\n",
    "#Figures\n",
    "plt.figure(figsize=(15,6))\n",
    "ax1 = plt.subplot(121)\n",
    "plt.hist(title_lens,normed=True)\n",
    "plt.xlabel('length (tokens)',fontsize=axis_size+3)\n",
    "ticks = np.linspace(0,0.035,8)\n",
    "#labels = [0.75 + i*0.025 for i in range(8)]\n",
    "plt.xticks(fontsize=tick_size)  \n",
    "plt.yticks(ticks,fontsize=tick_size-2)\n",
    "#plt.yticks(ticks,labels,fontsize=tick_size)\n",
    "ax1.spines[\"top\"].set_visible(False)  \n",
    "ax1.spines[\"right\"].set_visible(False)\n",
    "#plt.legend(['titles','precision'],prop={'size': legend_size},frameon=False)\n",
    "ax1.text(-0.025, label_y_position, 'a', transform=ax1.transAxes,\n",
    "      fontsize=label_size, fontweight='bold', va='top', ha='right')\n",
    "ax1.text(0.9, 0.25, 'titles', transform=ax1.transAxes, fontsize=inset_size, va='top', ha='right')\n",
    "\n",
    "\n",
    "\n",
    "#Figures\n",
    "ax2 = plt.subplot(122)\n",
    "plt.hist(abstract_lens, normed=True)\n",
    "plt.xlabel('length (tokens)',fontsize=axis_size+3)\n",
    "ticks = np.linspace(0,0.005,8)\n",
    "ticks = np.round(ticks,decimals=3)\n",
    "#labels = [0.75 + i*0.025 for i in range(8)]\n",
    "plt.xticks(fontsize=tick_size)  \n",
    "plt.yticks(ticks,fontsize=tick_size-2)\n",
    "#plt.yticks(fontsize=tick_size)\n",
    "ax2.spines[\"top\"].set_visible(False)  \n",
    "ax2.spines[\"right\"].set_visible(False)\n",
    "ax2.text(-0.025, label_y_position, 'b', transform=ax2.transAxes,\n",
    "      fontsize=label_size, fontweight='bold', va='top', ha='right')\n",
    "ax2.text(0.9, 0.25, 'abstracts', transform=ax2.transAxes, fontsize=inset_size, va='top', ha='right')\n",
    "\n",
    "plt.tight_layout()\n",
    "plt.savefig('figures/titles-and-abstract-lengths.pdf')"
   ]
  },
  {
   "cell_type": "markdown",
   "metadata": {},
   "source": [
    "### Roughwork"
   ]
  }
 ],
 "metadata": {
  "kernelspec": {
   "display_name": "Python 3",
   "language": "python",
   "name": "python3"
  },
  "language_info": {
   "codemirror_mode": {
    "name": "ipython",
    "version": 3
   },
   "file_extension": ".py",
   "mimetype": "text/x-python",
   "name": "python",
   "nbconvert_exporter": "python",
   "pygments_lexer": "ipython3",
   "version": "3.7.3"
  }
 },
 "nbformat": 4,
 "nbformat_minor": 2
}

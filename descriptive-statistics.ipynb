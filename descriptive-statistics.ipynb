{
 "cells": [
  {
   "cell_type": "markdown",
   "metadata": {},
   "source": [
    "# Introduction\n",
    "\n",
    "Making descriptive statistics for the arXiv"
   ]
  },
  {
   "cell_type": "code",
   "execution_count": 70,
   "metadata": {},
   "outputs": [],
   "source": [
    "import numpy as np\n",
    "import gzip, json\n",
    "import matplotlib.pyplot as plt\n",
    "%matplotlib inline\n",
    "\n",
    "def load_data(N):\n",
    "    fname ='/home/khev/research/arxiv-public-datasets/arxiv-data/arxiv-metadata-oai-2019-03-01.json.gz'\n",
    "    metadata = []\n",
    "    ctr = 0\n",
    "    with gzip.open(fname, 'rt', encoding='utf-8') as fin:\n",
    "        for row in fin.readlines():\n",
    "            metadata.append(json.loads(row))\n",
    "            ctr += 1\n",
    "            if ctr > N:\n",
    "                break\n",
    "    return metadata\n",
    "\n",
    "\n",
    "N = 10**7\n",
    "metadata = load_data(N)"
   ]
  },
  {
   "cell_type": "markdown",
   "metadata": {},
   "source": [
    "### Lengths"
   ]
  },
  {
   "cell_type": "code",
   "execution_count": 92,
   "metadata": {},
   "outputs": [
    {
     "name": "stdout",
     "output_type": "stream",
     "text": [
      "Title: meanL, stdL = 9.60, 3.74\n",
      "Title: meanL, stdL = 129.48, 63.79\n"
     ]
    },
    {
     "data": {
      "image/png": "[encoded data removed]",
      "text/plain": [
       "<Figure size 432x288 with 1 Axes>"
      ]
     },
     "metadata": {
      "needs_background": "light"
     },
     "output_type": "display_data"
    },
    {
     "data": {
      "image/png": "[encoded data removed]",
      "text/plain": [
       "<Figure size 432x288 with 1 Axes>"
      ]
     },
     "metadata": {
      "needs_background": "light"
     },
     "output_type": "display_data"
    }
   ],
   "source": [
    "plt.figure()\n",
    "L = [ len(m['title'].split()) for m in metadata ]\n",
    "plt.hist(L)\n",
    "plt.xlabel('length')\n",
    "np.savetxt('data/title-lengths.txt',L)\n",
    "print('Title: meanL, stdL = {:.2f}, {:.2f}'.format(np.mean(L), np.std(L)))\n",
    "\n",
    "plt.figure()\n",
    "L = [ len(m['abstract'].split()) for m in metadata ]\n",
    "plt.hist(L)\n",
    "plt.xlabel('length')\n",
    "np.savetxt('data/abstract-lengths.txt',L)\n",
    "print('Title: meanL, stdL = {:.2f}, {:.2f}'.format(np.mean(L), np.std(L)))"
   ]
  },
  {
   "cell_type": "markdown",
   "metadata": {},
   "source": [
    "### Vocab size"
   ]
  },
  {
   "cell_type": "code",
   "execution_count": 82,
   "metadata": {},
   "outputs": [
    {
     "data": {
      "text/plain": [
       "(0.526791, 3486518)"
      ]
     },
     "execution_count": 82,
     "metadata": {},
     "output_type": "execute_result"
    }
   ],
   "source": [
    "from collections import defaultdict\n",
    "\n",
    "vocab_titles, vocab_abstract = defaultdict(int), defaultdict(int)\n",
    "for m in metadata:\n",
    "    title, abstract = m['title'], m['abstract']\n",
    "    \n",
    "    #fill up titles\n",
    "    for word in title.split():\n",
    "        vocab_titles[word] += 1\n",
    "    \n",
    "    #fill up abstracts\n",
    "    for word in abstract.split():\n",
    "        vocab_abstract[word] +=1\n",
    "            \n",
    "len(vocab_titles) / 10**6, len(vocab_abstract)"
   ]
  },
  {
   "cell_type": "code",
   "execution_count": 80,
   "metadata": {},
   "outputs": [
    {
     "data": {
      "text/plain": [
       "(0.526791, 3.486518)"
      ]
     },
     "execution_count": 80,
     "metadata": {},
     "output_type": "execute_result"
    }
   ],
   "source": [
    "len(vocab_titles) / 10**6, len(vocab_abstract) / 10**6"
   ]
  },
  {
   "cell_type": "markdown",
   "metadata": {},
   "source": [
    "### Rare word size"
   ]
  },
  {
   "cell_type": "code",
   "execution_count": 90,
   "metadata": {},
   "outputs": [
    {
     "name": "stdout",
     "output_type": "stream",
     "text": [
      "% rarewords = 0.6286990476298949\n",
      "% rarewords = 0.671918515837291\n"
     ]
    }
   ],
   "source": [
    "#titles\n",
    "num = 0\n",
    "for word, freq in vocab_titles.items():\n",
    "    if freq == 1:\n",
    "        num += 1\n",
    "print('% rarewords = {}'.format(num / len(vocab_titles)))\n",
    "\n",
    "#abstrats\n",
    "num = 0\n",
    "for word, freq in vocab_abstract.items():\n",
    "    if freq == 1:\n",
    "        num += 1\n",
    "print('% rarewords = {}'.format(num / len(vocab_abstract)))"
   ]
  },
  {
   "cell_type": "code",
   "execution_count": null,
   "metadata": {},
   "outputs": [],
   "source": []
  }
 ],
 "metadata": {
  "kernelspec": {
   "display_name": "Python 3",
   "language": "python",
   "name": "python3"
  },
  "language_info": {
   "codemirror_mode": {
    "name": "ipython",
    "version": 3
   },
   "file_extension": ".py",
   "mimetype": "text/x-python",
   "name": "python",
   "nbconvert_exporter": "python",
   "pygments_lexer": "ipython3",
   "version": "3.7.3"
  }
 },
 "nbformat": 4,
 "nbformat_minor": 2
}
